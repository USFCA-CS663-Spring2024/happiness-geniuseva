{
 "cells": [
  {
   "cell_type": "markdown",
   "id": "62f86496-0dd0-4ff0-bb8f-a8b47a9f62e5",
   "metadata": {},
   "source": [
    "# Happiness <a id='happiness'></a>"
   ]
  },
  {
   "cell_type": "markdown",
   "id": "3465efd0-759c-4134-954e-69ffe93683f8",
   "metadata": {},
   "source": [
    "## 1. Data Description"
   ]
  },
  {
   "cell_type": "markdown",
   "id": "18457ae5-9ebb-4ae0-b4a5-7b08f27298a8",
   "metadata": {
    "jp-MarkdownHeadingCollapsed": true
   },
   "source": [
    "### Dataset size: \n",
    "- There are 11 columns and 2199 rows."
   ]
  },
  {
   "cell_type": "code",
   "execution_count": 8,
   "id": "46643b85-ba14-4e31-a9a0-e8dcbc2767d9",
   "metadata": {},
   "outputs": [
    {
     "data": {
      "text/html": [
       "<div>\n",
       "<style scoped>\n",
       "    .dataframe tbody tr th:only-of-type {\n",
       "        vertical-align: middle;\n",
       "    }\n",
       "\n",
       "    .dataframe tbody tr th {\n",
       "        vertical-align: top;\n",
       "    }\n",
       "\n",
       "    .dataframe thead th {\n",
       "        text-align: right;\n",
       "    }\n",
       "</style>\n",
       "<table border=\"1\" class=\"dataframe\">\n",
       "  <thead>\n",
       "    <tr style=\"text-align: right;\">\n",
       "      <th></th>\n",
       "      <th>Country name</th>\n",
       "      <th>year</th>\n",
       "      <th>Life Ladder</th>\n",
       "      <th>Log GDP per capita</th>\n",
       "      <th>Social support</th>\n",
       "      <th>Healthy life expectancy at birth</th>\n",
       "      <th>Freedom to make life choices</th>\n",
       "      <th>Generosity</th>\n",
       "      <th>Perceptions of corruption</th>\n",
       "      <th>Positive affect</th>\n",
       "      <th>Negative affect</th>\n",
       "    </tr>\n",
       "  </thead>\n",
       "  <tbody>\n",
       "    <tr>\n",
       "      <th>0</th>\n",
       "      <td>Afghanistan</td>\n",
       "      <td>2008</td>\n",
       "      <td>3.723590</td>\n",
       "      <td>7.350416</td>\n",
       "      <td>0.450662</td>\n",
       "      <td>50.500000</td>\n",
       "      <td>0.718114</td>\n",
       "      <td>0.167652</td>\n",
       "      <td>0.881686</td>\n",
       "      <td>0.414297</td>\n",
       "      <td>0.258195</td>\n",
       "    </tr>\n",
       "    <tr>\n",
       "      <th>1</th>\n",
       "      <td>Afghanistan</td>\n",
       "      <td>2009</td>\n",
       "      <td>4.401778</td>\n",
       "      <td>7.508646</td>\n",
       "      <td>0.552308</td>\n",
       "      <td>50.799999</td>\n",
       "      <td>0.678896</td>\n",
       "      <td>0.190809</td>\n",
       "      <td>0.850035</td>\n",
       "      <td>0.481421</td>\n",
       "      <td>0.237092</td>\n",
       "    </tr>\n",
       "    <tr>\n",
       "      <th>2</th>\n",
       "      <td>Afghanistan</td>\n",
       "      <td>2010</td>\n",
       "      <td>4.758381</td>\n",
       "      <td>7.613900</td>\n",
       "      <td>0.539075</td>\n",
       "      <td>51.099998</td>\n",
       "      <td>0.600127</td>\n",
       "      <td>0.121316</td>\n",
       "      <td>0.706766</td>\n",
       "      <td>0.516907</td>\n",
       "      <td>0.275324</td>\n",
       "    </tr>\n",
       "    <tr>\n",
       "      <th>3</th>\n",
       "      <td>Afghanistan</td>\n",
       "      <td>2011</td>\n",
       "      <td>3.831719</td>\n",
       "      <td>7.581259</td>\n",
       "      <td>0.521104</td>\n",
       "      <td>51.400002</td>\n",
       "      <td>0.495901</td>\n",
       "      <td>0.163571</td>\n",
       "      <td>0.731109</td>\n",
       "      <td>0.479835</td>\n",
       "      <td>0.267175</td>\n",
       "    </tr>\n",
       "    <tr>\n",
       "      <th>4</th>\n",
       "      <td>Afghanistan</td>\n",
       "      <td>2012</td>\n",
       "      <td>3.782938</td>\n",
       "      <td>7.660506</td>\n",
       "      <td>0.520637</td>\n",
       "      <td>51.700001</td>\n",
       "      <td>0.530935</td>\n",
       "      <td>0.237588</td>\n",
       "      <td>0.775620</td>\n",
       "      <td>0.613513</td>\n",
       "      <td>0.267919</td>\n",
       "    </tr>\n",
       "    <tr>\n",
       "      <th>...</th>\n",
       "      <td>...</td>\n",
       "      <td>...</td>\n",
       "      <td>...</td>\n",
       "      <td>...</td>\n",
       "      <td>...</td>\n",
       "      <td>...</td>\n",
       "      <td>...</td>\n",
       "      <td>...</td>\n",
       "      <td>...</td>\n",
       "      <td>...</td>\n",
       "      <td>...</td>\n",
       "    </tr>\n",
       "    <tr>\n",
       "      <th>2194</th>\n",
       "      <td>Zimbabwe</td>\n",
       "      <td>2018</td>\n",
       "      <td>3.616480</td>\n",
       "      <td>7.783066</td>\n",
       "      <td>0.775388</td>\n",
       "      <td>52.625000</td>\n",
       "      <td>0.762675</td>\n",
       "      <td>-0.051219</td>\n",
       "      <td>0.844209</td>\n",
       "      <td>0.657524</td>\n",
       "      <td>0.211726</td>\n",
       "    </tr>\n",
       "    <tr>\n",
       "      <th>2195</th>\n",
       "      <td>Zimbabwe</td>\n",
       "      <td>2019</td>\n",
       "      <td>2.693523</td>\n",
       "      <td>7.697755</td>\n",
       "      <td>0.759162</td>\n",
       "      <td>53.099998</td>\n",
       "      <td>0.631908</td>\n",
       "      <td>-0.047464</td>\n",
       "      <td>0.830652</td>\n",
       "      <td>0.658434</td>\n",
       "      <td>0.235354</td>\n",
       "    </tr>\n",
       "    <tr>\n",
       "      <th>2196</th>\n",
       "      <td>Zimbabwe</td>\n",
       "      <td>2020</td>\n",
       "      <td>3.159802</td>\n",
       "      <td>7.596050</td>\n",
       "      <td>0.717243</td>\n",
       "      <td>53.575001</td>\n",
       "      <td>0.643303</td>\n",
       "      <td>0.006313</td>\n",
       "      <td>0.788523</td>\n",
       "      <td>0.660658</td>\n",
       "      <td>0.345736</td>\n",
       "    </tr>\n",
       "    <tr>\n",
       "      <th>2197</th>\n",
       "      <td>Zimbabwe</td>\n",
       "      <td>2021</td>\n",
       "      <td>3.154578</td>\n",
       "      <td>7.656878</td>\n",
       "      <td>0.685151</td>\n",
       "      <td>54.049999</td>\n",
       "      <td>0.667636</td>\n",
       "      <td>-0.075575</td>\n",
       "      <td>0.756945</td>\n",
       "      <td>0.609917</td>\n",
       "      <td>0.241682</td>\n",
       "    </tr>\n",
       "    <tr>\n",
       "      <th>2198</th>\n",
       "      <td>Zimbabwe</td>\n",
       "      <td>2022</td>\n",
       "      <td>3.296220</td>\n",
       "      <td>7.670123</td>\n",
       "      <td>0.666172</td>\n",
       "      <td>54.525002</td>\n",
       "      <td>0.651987</td>\n",
       "      <td>-0.069513</td>\n",
       "      <td>0.752632</td>\n",
       "      <td>0.640609</td>\n",
       "      <td>0.191350</td>\n",
       "    </tr>\n",
       "  </tbody>\n",
       "</table>\n",
       "<p>2199 rows × 11 columns</p>\n",
       "</div>"
      ],
      "text/plain": [
       "     Country name  year  Life Ladder  Log GDP per capita  Social support  \\\n",
       "0     Afghanistan  2008     3.723590            7.350416        0.450662   \n",
       "1     Afghanistan  2009     4.401778            7.508646        0.552308   \n",
       "2     Afghanistan  2010     4.758381            7.613900        0.539075   \n",
       "3     Afghanistan  2011     3.831719            7.581259        0.521104   \n",
       "4     Afghanistan  2012     3.782938            7.660506        0.520637   \n",
       "...           ...   ...          ...                 ...             ...   \n",
       "2194     Zimbabwe  2018     3.616480            7.783066        0.775388   \n",
       "2195     Zimbabwe  2019     2.693523            7.697755        0.759162   \n",
       "2196     Zimbabwe  2020     3.159802            7.596050        0.717243   \n",
       "2197     Zimbabwe  2021     3.154578            7.656878        0.685151   \n",
       "2198     Zimbabwe  2022     3.296220            7.670123        0.666172   \n",
       "\n",
       "      Healthy life expectancy at birth  Freedom to make life choices  \\\n",
       "0                            50.500000                      0.718114   \n",
       "1                            50.799999                      0.678896   \n",
       "2                            51.099998                      0.600127   \n",
       "3                            51.400002                      0.495901   \n",
       "4                            51.700001                      0.530935   \n",
       "...                                ...                           ...   \n",
       "2194                         52.625000                      0.762675   \n",
       "2195                         53.099998                      0.631908   \n",
       "2196                         53.575001                      0.643303   \n",
       "2197                         54.049999                      0.667636   \n",
       "2198                         54.525002                      0.651987   \n",
       "\n",
       "      Generosity  Perceptions of corruption  Positive affect  Negative affect  \n",
       "0       0.167652                   0.881686         0.414297         0.258195  \n",
       "1       0.190809                   0.850035         0.481421         0.237092  \n",
       "2       0.121316                   0.706766         0.516907         0.275324  \n",
       "3       0.163571                   0.731109         0.479835         0.267175  \n",
       "4       0.237588                   0.775620         0.613513         0.267919  \n",
       "...          ...                        ...              ...              ...  \n",
       "2194   -0.051219                   0.844209         0.657524         0.211726  \n",
       "2195   -0.047464                   0.830652         0.658434         0.235354  \n",
       "2196    0.006313                   0.788523         0.660658         0.345736  \n",
       "2197   -0.075575                   0.756945         0.609917         0.241682  \n",
       "2198   -0.069513                   0.752632         0.640609         0.191350  \n",
       "\n",
       "[2199 rows x 11 columns]"
      ]
     },
     "execution_count": 8,
     "metadata": {},
     "output_type": "execute_result"
    }
   ],
   "source": [
    "## load the dataset\n",
    "import pandas as pd\n",
    "df = pd.read_excel('DataForTable2.1WHR2023.xls')\n",
    "df"
   ]
  },
  {
   "cell_type": "markdown",
   "id": "4ce53c66-2b08-4fcf-9f10-8b2d52194e6b",
   "metadata": {
    "jp-MarkdownHeadingCollapsed": true
   },
   "source": [
    "### Features\n",
    "- There are 11 features (columns). They are \"country name\", \"year\", \"Life ladder\" measuring the happiness score from 0 (least happy) to 10(happiest), \"Log GDP per capita\", \"social support\" measuring having someone to count on in times of trouble, \"healthy life expectancy at brith\", \"freedom to make life choices\", \"generosity\" measuring whether people donated money to a charity in the past month or not, \"Perceptions of corruption\", positive affect measuring the average of three positive affect in laugh, enjoyment and doing interesting things, and \"Negative affect\" measuring the average of three negative affect in worry, sadness and anger. \n",
    "- Among them, \"Country name\" is represented as an object, \"year\" is represented as a integer, and all other features are represented as floats. "
   ]
  },
  {
   "cell_type": "code",
   "execution_count": 155,
   "id": "395b5f96-8cc0-4c16-851f-6c79c5545213",
   "metadata": {
    "scrolled": true
   },
   "outputs": [
    {
     "name": "stdout",
     "output_type": "stream",
     "text": [
      "<class 'pandas.core.frame.DataFrame'>\n",
      "RangeIndex: 2199 entries, 0 to 2198\n",
      "Data columns (total 11 columns):\n",
      " #   Column                            Non-Null Count  Dtype  \n",
      "---  ------                            --------------  -----  \n",
      " 0   Country name                      2199 non-null   object \n",
      " 1   year                              2199 non-null   int64  \n",
      " 2   Life Ladder                       2199 non-null   float64\n",
      " 3   Log GDP per capita                2179 non-null   float64\n",
      " 4   Social support                    2186 non-null   float64\n",
      " 5   Healthy life expectancy at birth  2145 non-null   float64\n",
      " 6   Freedom to make life choices      2166 non-null   float64\n",
      " 7   Generosity                        2126 non-null   float64\n",
      " 8   Perceptions of corruption         2083 non-null   float64\n",
      " 9   Positive affect                   2175 non-null   float64\n",
      " 10  Negative affect                   2183 non-null   float64\n",
      "dtypes: float64(9), int64(1), object(1)\n",
      "memory usage: 189.1+ KB\n"
     ]
    }
   ],
   "source": [
    "df.info()"
   ]
  },
  {
   "cell_type": "markdown",
   "id": "d6e01749-16bc-4102-940d-4306e6f64470",
   "metadata": {},
   "source": [
    "### Correlation:\n",
    "- I replaced all missing values with the mode of the column so that the correlation is not affected.\n",
    "- One interesting correlation I found is that the correlation between \"life ladder\" and \"generosity\" is only 0.15, which indicates that when people become richer, they won't be more generous."
   ]
  },
  {
   "cell_type": "code",
   "execution_count": 12,
   "id": "aa49603b-57df-4de9-935c-91cb3dadebaa",
   "metadata": {},
   "outputs": [],
   "source": [
    "# Calculate the mode of each column\n",
    "modes = df.mode().iloc[0]\n",
    "\n",
    "# Fill missing values with the mode of each column\n",
    "df_filled = df.fillna(modes)"
   ]
  },
  {
   "cell_type": "code",
   "execution_count": 10,
   "id": "81cb5901-cf8f-486b-a5c3-816d16703c65",
   "metadata": {},
   "outputs": [
    {
     "data": {
      "text/plain": [
       "<Axes: >"
      ]
     },
     "execution_count": 10,
     "metadata": {},
     "output_type": "execute_result"
    },
    {
     "data": {
      "image/png": "[encoded data removed]",
      "text/plain": [
       "<Figure size 640x480 with 2 Axes>"
      ]
     },
     "metadata": {},
     "output_type": "display_data"
    }
   ],
   "source": [
    "import seaborn as sns\n",
    "df_corr = df_filled.drop(columns=['Country name'], inplace=True)\n",
    "sns.heatmap(df_filled.corr(), annot=True)"
   ]
  },
  {
   "cell_type": "markdown",
   "id": "5c32abd8-a8b1-4352-9e64-df3720da9918",
   "metadata": {},
   "source": [
    "### Distribution\n",
    "- The year distribution is interesting to me because I am expecting that the number of data to increase when year increases but it's actually not."
   ]
  },
  {
   "cell_type": "code",
   "execution_count": 17,
   "id": "bb59c214-ee96-4a8a-9e9d-ac4dfe706094",
   "metadata": {},
   "outputs": [
    {
     "data": {
      "text/plain": [
       "year\n",
       "2017    147\n",
       "2011    146\n",
       "2014    144\n",
       "2019    143\n",
       "2015    142\n",
       "2012    141\n",
       "2016    141\n",
       "2018    141\n",
       "2013    136\n",
       "2010    124\n",
       "2021    122\n",
       "2020    116\n",
       "2009    114\n",
       "2022    114\n",
       "2008    110\n",
       "2007    102\n",
       "2006     89\n",
       "2005     27\n",
       "Name: count, dtype: int64"
      ]
     },
     "execution_count": 17,
     "metadata": {},
     "output_type": "execute_result"
    }
   ],
   "source": [
    "df['year'].value_counts()"
   ]
  },
  {
   "cell_type": "markdown",
   "id": "ef4250f4-5096-4691-8942-362af3e9a143",
   "metadata": {},
   "source": [
    "## 2. Data Quality Evaluation"
   ]
  },
  {
   "cell_type": "markdown",
   "id": "f8118358-8a4d-4c8c-bbfb-fe44b1b8ac22",
   "metadata": {
    "jp-MarkdownHeadingCollapsed": true
   },
   "source": [
    "### Missing values:\n",
    "- The column with most missing values is \"Perceptions of corruption\", which is around 5% of the total number of rows.\n",
    "- For other columns that contains missing values, the number of missing values is no greater than 3.5%, which is acceptable."
   ]
  },
  {
   "cell_type": "code",
   "execution_count": 75,
   "id": "d2065ff1-d02e-4dde-9f98-3b9e7533f893",
   "metadata": {},
   "outputs": [
    {
     "data": {
      "text/plain": [
       "Country name                          0\n",
       "year                                  0\n",
       "Life Ladder                           0\n",
       "Log GDP per capita                   20\n",
       "Social support                       13\n",
       "Healthy life expectancy at birth     54\n",
       "Freedom to make life choices         33\n",
       "Generosity                           73\n",
       "Perceptions of corruption           116\n",
       "Positive affect                      24\n",
       "Negative affect                      16\n",
       "dtype: int64"
      ]
     },
     "execution_count": 75,
     "metadata": {},
     "output_type": "execute_result"
    }
   ],
   "source": [
    "df.isna().sum()"
   ]
  },
  {
   "cell_type": "markdown",
   "id": "2d779a93-4062-460a-a276-3ae4d2887bee",
   "metadata": {},
   "source": [
    "### Data Limitation:\n",
    "- The earliest year when a country reports its happiness score is 2005. We don't have any data before that."
   ]
  },
  {
   "cell_type": "markdown",
   "id": "0072ae8a-d4ac-4f2e-ac7e-6befe162e667",
   "metadata": {
    "jp-MarkdownHeadingCollapsed": true
   },
   "source": [
    "### Overall Data Evaluation:\n",
    "- I think overall the data quality is good because there isn't much missing value and all data is not distortioned."
   ]
  },
  {
   "cell_type": "code",
   "execution_count": 151,
   "id": "871fead9-df89-4097-8faf-1be0720ad2ec",
   "metadata": {
    "scrolled": true
   },
   "outputs": [
    {
     "data": {
      "text/plain": [
       "Country name                        Australia\n",
       "year                                     2005\n",
       "Life Ladder                          7.340688\n",
       "Log GDP per capita                  10.662058\n",
       "Social support                       0.967892\n",
       "Healthy life expectancy at birth    69.800003\n",
       "Freedom to make life choices         0.934973\n",
       "Generosity                                NaN\n",
       "Perceptions of corruption            0.390416\n",
       "Positive affect                       0.76977\n",
       "Negative affect                      0.238012\n",
       "Name: 76, dtype: object"
      ]
     },
     "execution_count": 151,
     "metadata": {},
     "output_type": "execute_result"
    }
   ],
   "source": [
    "df.loc[df['year'].idxmin()]"
   ]
  },
  {
   "cell_type": "markdown",
   "id": "dca682c4-cbcf-4b6c-bf09-bb994fcec9cd",
   "metadata": {},
   "source": [
    "## 3. Dataset Analysis <a id='data-analysis'></a>"
   ]
  },
  {
   "cell_type": "markdown",
   "id": "5939fe2b-8beb-4808-b1db-5df0ac662003",
   "metadata": {
    "jp-MarkdownHeadingCollapsed": true
   },
   "source": [
    "#### Question 2: What is the happiest country in 2022? In 2013? Of all time? What is the least happy country in 2022, 2013 and of all time?#"
   ]
  },
  {
   "cell_type": "markdown",
   "id": "e26adf4d-5804-4d2f-8706-3b32d6d710ff",
   "metadata": {},
   "source": [
    "##### Based on the Statistical Appendix of World Happiness Report, the metric of happiness is named \"life ladder\" in our dataset. For a single year like 2022, I will just refer to the life ladder value. For all time, I will calculate the average of life ladder values of all years."
   ]
  },
  {
   "cell_type": "code",
   "execution_count": 146,
   "id": "866ec790-f537-40fe-bac4-92b01e08af78",
   "metadata": {},
   "outputs": [
    {
     "data": {
      "text/html": [
       "<div>\n",
       "<style scoped>\n",
       "    .dataframe tbody tr th:only-of-type {\n",
       "        vertical-align: middle;\n",
       "    }\n",
       "\n",
       "    .dataframe tbody tr th {\n",
       "        vertical-align: top;\n",
       "    }\n",
       "\n",
       "    .dataframe thead th {\n",
       "        text-align: right;\n",
       "    }\n",
       "</style>\n",
       "<table border=\"1\" class=\"dataframe\">\n",
       "  <thead>\n",
       "    <tr style=\"text-align: right;\">\n",
       "      <th></th>\n",
       "      <th>Country name</th>\n",
       "      <th>Life Ladder</th>\n",
       "    </tr>\n",
       "  </thead>\n",
       "  <tbody>\n",
       "    <tr>\n",
       "      <th>637</th>\n",
       "      <td>Finland</td>\n",
       "      <td>7.728998</td>\n",
       "    </tr>\n",
       "    <tr>\n",
       "      <th>925</th>\n",
       "      <td>Israel</td>\n",
       "      <td>7.662397</td>\n",
       "    </tr>\n",
       "    <tr>\n",
       "      <th>521</th>\n",
       "      <td>Denmark</td>\n",
       "      <td>7.544965</td>\n",
       "    </tr>\n",
       "    <tr>\n",
       "      <th>830</th>\n",
       "      <td>Iceland</td>\n",
       "      <td>7.448794</td>\n",
       "    </tr>\n",
       "    <tr>\n",
       "      <th>1865</th>\n",
       "      <td>Sweden</td>\n",
       "      <td>7.431214</td>\n",
       "    </tr>\n",
       "    <tr>\n",
       "      <th>...</th>\n",
       "      <td>...</td>\n",
       "      <td>...</td>\n",
       "    </tr>\n",
       "    <tr>\n",
       "      <th>2198</th>\n",
       "      <td>Zimbabwe</td>\n",
       "      <td>3.296220</td>\n",
       "    </tr>\n",
       "    <tr>\n",
       "      <th>442</th>\n",
       "      <td>Congo (Kinshasa)</td>\n",
       "      <td>3.207197</td>\n",
       "    </tr>\n",
       "    <tr>\n",
       "      <th>1709</th>\n",
       "      <td>Sierra Leone</td>\n",
       "      <td>2.560430</td>\n",
       "    </tr>\n",
       "    <tr>\n",
       "      <th>1117</th>\n",
       "      <td>Lebanon</td>\n",
       "      <td>2.352428</td>\n",
       "    </tr>\n",
       "    <tr>\n",
       "      <th>13</th>\n",
       "      <td>Afghanistan</td>\n",
       "      <td>1.281271</td>\n",
       "    </tr>\n",
       "  </tbody>\n",
       "</table>\n",
       "<p>114 rows × 2 columns</p>\n",
       "</div>"
      ],
      "text/plain": [
       "          Country name  Life Ladder\n",
       "637            Finland     7.728998\n",
       "925             Israel     7.662397\n",
       "521            Denmark     7.544965\n",
       "830            Iceland     7.448794\n",
       "1865            Sweden     7.431214\n",
       "...                ...          ...\n",
       "2198          Zimbabwe     3.296220\n",
       "442   Congo (Kinshasa)     3.207197\n",
       "1709      Sierra Leone     2.560430\n",
       "1117           Lebanon     2.352428\n",
       "13         Afghanistan     1.281271\n",
       "\n",
       "[114 rows x 2 columns]"
      ]
     },
     "execution_count": 146,
     "metadata": {},
     "output_type": "execute_result"
    }
   ],
   "source": [
    "# life ladder of each country in 2022 in descending order\n",
    "df_2022 = df[df['year'] == 2022][['Country name', 'Life Ladder']]\n",
    "happy_df_2022 = df_2022.sort_values(by = 'Life Ladder', ascending = False)\n",
    "happy_df_2022"
   ]
  },
  {
   "cell_type": "code",
   "execution_count": 132,
   "id": "34963c4d-083b-42a0-95f2-767611778b4b",
   "metadata": {},
   "outputs": [
    {
     "data": {
      "text/plain": [
       "Country name     Finland\n",
       "Life Ladder     7.728998\n",
       "Name: 637, dtype: object"
      ]
     },
     "execution_count": 132,
     "metadata": {},
     "output_type": "execute_result"
    }
   ],
   "source": [
    "# the happiest country in 2022\n",
    "happy_df_2022.loc[happy_df_2022['Life Ladder'].idxmax()]"
   ]
  },
  {
   "cell_type": "code",
   "execution_count": 135,
   "id": "76a1de64-d3b4-4bf5-a2a0-5dda105f95ed",
   "metadata": {},
   "outputs": [
    {
     "data": {
      "text/plain": [
       "Country name    Afghanistan\n",
       "Life Ladder        1.281271\n",
       "Name: 13, dtype: object"
      ]
     },
     "execution_count": 135,
     "metadata": {},
     "output_type": "execute_result"
    }
   ],
   "source": [
    "# the least happy country in 2022\n",
    "happy_df_2022.loc[happy_df_2022['Life Ladder'].idxmin()]"
   ]
  },
  {
   "cell_type": "code",
   "execution_count": 147,
   "id": "ef139042-5905-4783-8e77-36bf2d2e7192",
   "metadata": {},
   "outputs": [
    {
     "data": {
      "text/html": [
       "<div>\n",
       "<style scoped>\n",
       "    .dataframe tbody tr th:only-of-type {\n",
       "        vertical-align: middle;\n",
       "    }\n",
       "\n",
       "    .dataframe tbody tr th {\n",
       "        vertical-align: top;\n",
       "    }\n",
       "\n",
       "    .dataframe thead th {\n",
       "        text-align: right;\n",
       "    }\n",
       "</style>\n",
       "<table border=\"1\" class=\"dataframe\">\n",
       "  <thead>\n",
       "    <tr style=\"text-align: right;\">\n",
       "      <th></th>\n",
       "      <th>Country name</th>\n",
       "      <th>Life Ladder</th>\n",
       "    </tr>\n",
       "  </thead>\n",
       "  <tbody>\n",
       "    <tr>\n",
       "      <th>334</th>\n",
       "      <td>Canada</td>\n",
       "      <td>7.593794</td>\n",
       "    </tr>\n",
       "    <tr>\n",
       "      <th>512</th>\n",
       "      <td>Denmark</td>\n",
       "      <td>7.588607</td>\n",
       "    </tr>\n",
       "    <tr>\n",
       "      <th>823</th>\n",
       "      <td>Iceland</td>\n",
       "      <td>7.501394</td>\n",
       "    </tr>\n",
       "    <tr>\n",
       "      <th>97</th>\n",
       "      <td>Austria</td>\n",
       "      <td>7.498803</td>\n",
       "    </tr>\n",
       "    <tr>\n",
       "      <th>628</th>\n",
       "      <td>Finland</td>\n",
       "      <td>7.444636</td>\n",
       "    </tr>\n",
       "    <tr>\n",
       "      <th>...</th>\n",
       "      <td>...</td>\n",
       "      <td>...</td>\n",
       "    </tr>\n",
       "    <tr>\n",
       "      <th>356</th>\n",
       "      <td>Chad</td>\n",
       "      <td>3.507663</td>\n",
       "    </tr>\n",
       "    <tr>\n",
       "      <th>185</th>\n",
       "      <td>Benin</td>\n",
       "      <td>3.479413</td>\n",
       "    </tr>\n",
       "    <tr>\n",
       "      <th>1641</th>\n",
       "      <td>Rwanda</td>\n",
       "      <td>3.466388</td>\n",
       "    </tr>\n",
       "    <tr>\n",
       "      <th>279</th>\n",
       "      <td>Burkina Faso</td>\n",
       "      <td>3.325950</td>\n",
       "    </tr>\n",
       "    <tr>\n",
       "      <th>1883</th>\n",
       "      <td>Syria</td>\n",
       "      <td>2.687553</td>\n",
       "    </tr>\n",
       "  </tbody>\n",
       "</table>\n",
       "<p>136 rows × 2 columns</p>\n",
       "</div>"
      ],
      "text/plain": [
       "      Country name  Life Ladder\n",
       "334         Canada     7.593794\n",
       "512        Denmark     7.588607\n",
       "823        Iceland     7.501394\n",
       "97         Austria     7.498803\n",
       "628        Finland     7.444636\n",
       "...            ...          ...\n",
       "356           Chad     3.507663\n",
       "185          Benin     3.479413\n",
       "1641        Rwanda     3.466388\n",
       "279   Burkina Faso     3.325950\n",
       "1883         Syria     2.687553\n",
       "\n",
       "[136 rows x 2 columns]"
      ]
     },
     "execution_count": 147,
     "metadata": {},
     "output_type": "execute_result"
    }
   ],
   "source": [
    "# life ladder of each country in 2013 in descending order\n",
    "df_2013 = df[df['year'] == 2013][['Country name', 'Life Ladder']]\n",
    "happy_df_2013 = df_2013.sort_values(by = 'Life Ladder', ascending = False)\n",
    "happy_df_2013"
   ]
  },
  {
   "cell_type": "code",
   "execution_count": 134,
   "id": "e2b40368-afdf-4404-b216-49dee5672a0f",
   "metadata": {
    "scrolled": true
   },
   "outputs": [
    {
     "data": {
      "text/plain": [
       "Country name      Canada\n",
       "Life Ladder     7.593794\n",
       "Name: 334, dtype: object"
      ]
     },
     "execution_count": 134,
     "metadata": {},
     "output_type": "execute_result"
    }
   ],
   "source": [
    "# the happiest country in 2013\n",
    "happy_df_2013.loc[happy_df_2013['Life Ladder'].idxmax()]"
   ]
  },
  {
   "cell_type": "code",
   "execution_count": 136,
   "id": "63bcd0f2-ef50-4151-b91e-9290580dbbb8",
   "metadata": {},
   "outputs": [
    {
     "data": {
      "text/plain": [
       "Country name       Syria\n",
       "Life Ladder     2.687553\n",
       "Name: 1883, dtype: object"
      ]
     },
     "execution_count": 136,
     "metadata": {},
     "output_type": "execute_result"
    }
   ],
   "source": [
    "# the least happy country in 2013\n",
    "happy_df_2013.loc[happy_df_2013['Life Ladder'].idxmin()]"
   ]
  },
  {
   "cell_type": "code",
   "execution_count": 143,
   "id": "6b829309-a3f2-4b04-b073-61fc188cf0a9",
   "metadata": {
    "scrolled": true
   },
   "outputs": [
    {
     "data": {
      "text/html": [
       "<div>\n",
       "<style scoped>\n",
       "    .dataframe tbody tr th:only-of-type {\n",
       "        vertical-align: middle;\n",
       "    }\n",
       "\n",
       "    .dataframe tbody tr th {\n",
       "        vertical-align: top;\n",
       "    }\n",
       "\n",
       "    .dataframe thead th {\n",
       "        text-align: right;\n",
       "    }\n",
       "</style>\n",
       "<table border=\"1\" class=\"dataframe\">\n",
       "  <thead>\n",
       "    <tr style=\"text-align: right;\">\n",
       "      <th></th>\n",
       "      <th>Life Ladder</th>\n",
       "    </tr>\n",
       "    <tr>\n",
       "      <th>Country name</th>\n",
       "      <th></th>\n",
       "    </tr>\n",
       "  </thead>\n",
       "  <tbody>\n",
       "    <tr>\n",
       "      <th>Denmark</th>\n",
       "      <td>7.673428</td>\n",
       "    </tr>\n",
       "    <tr>\n",
       "      <th>Finland</th>\n",
       "      <td>7.619146</td>\n",
       "    </tr>\n",
       "    <tr>\n",
       "      <th>Norway</th>\n",
       "      <td>7.481820</td>\n",
       "    </tr>\n",
       "    <tr>\n",
       "      <th>Switzerland</th>\n",
       "      <td>7.474483</td>\n",
       "    </tr>\n",
       "    <tr>\n",
       "      <th>Iceland</th>\n",
       "      <td>7.458607</td>\n",
       "    </tr>\n",
       "    <tr>\n",
       "      <th>...</th>\n",
       "      <td>...</td>\n",
       "    </tr>\n",
       "    <tr>\n",
       "      <th>Rwanda</th>\n",
       "      <td>3.654473</td>\n",
       "    </tr>\n",
       "    <tr>\n",
       "      <th>Burundi</th>\n",
       "      <td>3.548124</td>\n",
       "    </tr>\n",
       "    <tr>\n",
       "      <th>Central African Republic</th>\n",
       "      <td>3.514954</td>\n",
       "    </tr>\n",
       "    <tr>\n",
       "      <th>South Sudan</th>\n",
       "      <td>3.401875</td>\n",
       "    </tr>\n",
       "    <tr>\n",
       "      <th>Afghanistan</th>\n",
       "      <td>3.346632</td>\n",
       "    </tr>\n",
       "  </tbody>\n",
       "</table>\n",
       "<p>165 rows × 1 columns</p>\n",
       "</div>"
      ],
      "text/plain": [
       "                          Life Ladder\n",
       "Country name                         \n",
       "Denmark                      7.673428\n",
       "Finland                      7.619146\n",
       "Norway                       7.481820\n",
       "Switzerland                  7.474483\n",
       "Iceland                      7.458607\n",
       "...                               ...\n",
       "Rwanda                       3.654473\n",
       "Burundi                      3.548124\n",
       "Central African Republic     3.514954\n",
       "South Sudan                  3.401875\n",
       "Afghanistan                  3.346632\n",
       "\n",
       "[165 rows x 1 columns]"
      ]
     },
     "execution_count": 143,
     "metadata": {},
     "output_type": "execute_result"
    }
   ],
   "source": [
    "# life ladder of each country of all time in descending order\n",
    "df_all_time = df.groupby('Country name')['Life Ladder'].mean().to_frame()\n",
    "happy_df_all_time = df_all_time.sort_values(by = 'Life Ladder', ascending = False)\n",
    "happy_df_all_time"
   ]
  },
  {
   "cell_type": "code",
   "execution_count": 144,
   "id": "d46b77a8-3cca-49c8-b7fd-fa5c93400cdf",
   "metadata": {},
   "outputs": [
    {
     "data": {
      "text/plain": [
       "Life Ladder    7.673428\n",
       "Name: Denmark, dtype: float64"
      ]
     },
     "execution_count": 144,
     "metadata": {},
     "output_type": "execute_result"
    }
   ],
   "source": [
    "# the happiest country of all time\n",
    "happy_df_all_time.loc[happy_df_all_time['Life Ladder'].idxmax()]"
   ]
  },
  {
   "cell_type": "code",
   "execution_count": 145,
   "id": "e8b3f639-1b83-4cf0-9fee-fbe10bfb28a2",
   "metadata": {},
   "outputs": [
    {
     "data": {
      "text/plain": [
       "Life Ladder    3.346632\n",
       "Name: Afghanistan, dtype: float64"
      ]
     },
     "execution_count": 145,
     "metadata": {},
     "output_type": "execute_result"
    }
   ],
   "source": [
    "# the least happy country of all time\n",
    "happy_df_all_time.loc[happy_df_all_time['Life Ladder'].idxmin()]"
   ]
  },
  {
   "cell_type": "markdown",
   "id": "f15f7fbf-8b48-471b-8262-16187eaf18ec",
   "metadata": {},
   "source": [
    "##### Conclusion: The happiest country is Finland in 2022, Canada in 2013, and Denmark of all time. The least happy country is Afghanistan in 2022, Syria in 2013, and Afghanistan of all time."
   ]
  },
  {
   "cell_type": "markdown",
   "id": "3a00fc36-0df7-47c0-bf61-5d3502fe2c4f",
   "metadata": {},
   "source": [
    "#### Question 3: Of the countries in this dataset, which country had the largest increase in happiness from its start of participation to 2023? Which had the largest decrease in happiness?"
   ]
  },
  {
   "cell_type": "code",
   "execution_count": 107,
   "id": "df371bb2-c67d-4083-a51f-04cf606e26cf",
   "metadata": {},
   "outputs": [],
   "source": [
    "# Calculate happiness increasement value from its start of participation to 2022 of each country\n",
    "happy_increment = []\n",
    "\n",
    "for name, group in df.groupby('Country name'):\n",
    "    existed2023 = len(group.query('year == 2022'))\n",
    "    \n",
    "    if existed2023 == 0:\n",
    "        happy_increment.append(0)\n",
    "        continue\n",
    "\n",
    "    group = group.reset_index()\n",
    "    happy = group.iloc[-1, 3] - group.iloc[0, 3]\n",
    "    happy_increment.append(happy)\n",
    "    \n",
    "country_col = df.groupby('Country name').mean().reset_index()['Country name']"
   ]
  },
  {
   "cell_type": "code",
   "execution_count": 148,
   "id": "a8fce2a6-74e2-425f-8932-c65c8d60a129",
   "metadata": {},
   "outputs": [
    {
     "data": {
      "text/html": [
       "<div>\n",
       "<style scoped>\n",
       "    .dataframe tbody tr th:only-of-type {\n",
       "        vertical-align: middle;\n",
       "    }\n",
       "\n",
       "    .dataframe tbody tr th {\n",
       "        vertical-align: top;\n",
       "    }\n",
       "\n",
       "    .dataframe thead th {\n",
       "        text-align: right;\n",
       "    }\n",
       "</style>\n",
       "<table border=\"1\" class=\"dataframe\">\n",
       "  <thead>\n",
       "    <tr style=\"text-align: right;\">\n",
       "      <th></th>\n",
       "      <th>country</th>\n",
       "      <th>happiness_increment</th>\n",
       "    </tr>\n",
       "  </thead>\n",
       "  <tbody>\n",
       "    <tr>\n",
       "      <th>32</th>\n",
       "      <td>Congo (Brazzaville)</td>\n",
       "      <td>1.985126</td>\n",
       "    </tr>\n",
       "    <tr>\n",
       "      <th>107</th>\n",
       "      <td>Nicaragua</td>\n",
       "      <td>1.932099</td>\n",
       "    </tr>\n",
       "    <tr>\n",
       "      <th>52</th>\n",
       "      <td>Georgia</td>\n",
       "      <td>1.617647</td>\n",
       "    </tr>\n",
       "    <tr>\n",
       "      <th>20</th>\n",
       "      <td>Bulgaria</td>\n",
       "      <td>1.534551</td>\n",
       "    </tr>\n",
       "    <tr>\n",
       "      <th>115</th>\n",
       "      <td>Paraguay</td>\n",
       "      <td>1.407530</td>\n",
       "    </tr>\n",
       "    <tr>\n",
       "      <th>...</th>\n",
       "      <td>...</td>\n",
       "      <td>...</td>\n",
       "    </tr>\n",
       "    <tr>\n",
       "      <th>18</th>\n",
       "      <td>Botswana</td>\n",
       "      <td>-1.304092</td>\n",
       "    </tr>\n",
       "    <tr>\n",
       "      <th>64</th>\n",
       "      <td>India</td>\n",
       "      <td>-1.418443</td>\n",
       "    </tr>\n",
       "    <tr>\n",
       "      <th>74</th>\n",
       "      <td>Jordan</td>\n",
       "      <td>-1.939054</td>\n",
       "    </tr>\n",
       "    <tr>\n",
       "      <th>0</th>\n",
       "      <td>Afghanistan</td>\n",
       "      <td>-2.442319</td>\n",
       "    </tr>\n",
       "    <tr>\n",
       "      <th>82</th>\n",
       "      <td>Lebanon</td>\n",
       "      <td>-3.138818</td>\n",
       "    </tr>\n",
       "  </tbody>\n",
       "</table>\n",
       "<p>165 rows × 2 columns</p>\n",
       "</div>"
      ],
      "text/plain": [
       "                 country  happiness_increment\n",
       "32   Congo (Brazzaville)             1.985126\n",
       "107            Nicaragua             1.932099\n",
       "52               Georgia             1.617647\n",
       "20              Bulgaria             1.534551\n",
       "115             Paraguay             1.407530\n",
       "..                   ...                  ...\n",
       "18              Botswana            -1.304092\n",
       "64                 India            -1.418443\n",
       "74                Jordan            -1.939054\n",
       "0            Afghanistan            -2.442319\n",
       "82               Lebanon            -3.138818\n",
       "\n",
       "[165 rows x 2 columns]"
      ]
     },
     "execution_count": 148,
     "metadata": {},
     "output_type": "execute_result"
    }
   ],
   "source": [
    "# Create a new dataset of by sorting happiness increment value in descending order\n",
    "happy_df = pd.DataFrame(\n",
    "    {'country': country_col,\n",
    "     'happiness_increment': happy_increment})\n",
    "happy_sorted_df = happy_df.sort_values(by='happiness_increment', ascending = False)\n",
    "happy_sorted_df"
   ]
  },
  {
   "cell_type": "code",
   "execution_count": 120,
   "id": "5e0da20c-1ffb-4e4f-83ff-c2f3b2405722",
   "metadata": {},
   "outputs": [
    {
     "data": {
      "text/plain": [
       "country                Congo (Brazzaville)\n",
       "happiness_increment               1.985126\n",
       "Name: 32, dtype: object"
      ]
     },
     "execution_count": 120,
     "metadata": {},
     "output_type": "execute_result"
    }
   ],
   "source": [
    "## Find the country with the largest increase in happiness\n",
    "happy_df.loc[happy_df['happiness_increment'].idxmax()]"
   ]
  },
  {
   "cell_type": "code",
   "execution_count": 121,
   "id": "eaa3fd96-16f4-40a1-b000-caa598691c82",
   "metadata": {},
   "outputs": [
    {
     "data": {
      "text/plain": [
       "country                 Lebanon\n",
       "happiness_increment   -3.138818\n",
       "Name: 82, dtype: object"
      ]
     },
     "execution_count": 121,
     "metadata": {},
     "output_type": "execute_result"
    }
   ],
   "source": [
    "## Find the country with the largest decrease in happiness\n",
    "happy_df.loc[happy_df['happiness_increment'].idxmin()]"
   ]
  },
  {
   "cell_type": "markdown",
   "id": "d418570f-1d8e-43bc-b7b8-8b0ffb8cfbe6",
   "metadata": {},
   "source": [
    "##### Conclusion: Of the countries in this dataset, Congo had the largest increase in happiness from its start of participation to 2022, and Lebanon had the largest decrease in happiness."
   ]
  }
 ],
 "metadata": {
  "kernelspec": {
   "display_name": "Python 3 (ipykernel)",
   "language": "python",
   "name": "python3"
  },
  "language_info": {
   "codemirror_mode": {
    "name": "ipython",
    "version": 3
   },
   "file_extension": ".py",
   "mimetype": "text/x-python",
   "name": "python",
   "nbconvert_exporter": "python",
   "pygments_lexer": "ipython3",
   "version": "3.11.7"
  }
 },
 "nbformat": 4,
 "nbformat_minor": 5
}
